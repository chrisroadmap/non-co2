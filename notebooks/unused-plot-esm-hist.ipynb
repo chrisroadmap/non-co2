{
 "cells": [
  {
   "cell_type": "markdown",
   "id": "42a76f65",
   "metadata": {},
   "source": [
    "This won't work out of the box, because I can't put GBs of CMIP6 data on GitHub."
   ]
  },
  {
   "cell_type": "code",
   "execution_count": null,
   "id": "25cf7efd",
   "metadata": {},
   "outputs": [],
   "source": [
    "import warnings\n",
    "\n",
    "import iris\n",
    "import iris.coord_categorisation\n",
    "import iris.analysis.cartography\n",
    "import iris.analysis\n",
    "import iris.util\n",
    "import matplotlib.pyplot as pl\n",
    "import numpy as np\n",
    "import pandas as pd"
   ]
  },
  {
   "cell_type": "code",
   "execution_count": null,
   "id": "52ce2e12",
   "metadata": {},
   "outputs": [],
   "source": [
    "warnings.simplefilter(\"ignore\")"
   ]
  },
  {
   "cell_type": "code",
   "execution_count": null,
   "id": "dde73377",
   "metadata": {},
   "outputs": [],
   "source": [
    "models = [\n",
    "    'ACCESS-ESM1-5',\n",
    "    'BCC-CSM2-MR',\n",
    "    'CanESM5-CanOE',\n",
    "    'CanESM5',\n",
    "    'CESM2',\n",
    "    'CNRM-ESM2-1',\n",
    "    'EC-Earth3-CC',\n",
    "    'GFDL-ESM4',\n",
    "    'MIROC-ES2L',\n",
    "    'MPI-ESM1-2-LR',\n",
    "    'MRI-ESM2-0',\n",
    "    'NorESM2-LM',\n",
    "    'UKESM1-0-LL'\n",
    "]"
   ]
  },
  {
   "cell_type": "code",
   "execution_count": null,
   "id": "4b0a8a7b",
   "metadata": {},
   "outputs": [],
   "source": [
    "table = {model: 'Amon' for model in models}\n",
    "table['MIROC-ES2L'] = 'AERmon'\n",
    "table['UKESM1-0-LL'] = 'AERmon'"
   ]
  },
  {
   "cell_type": "code",
   "execution_count": null,
   "id": "be37c3f9",
   "metadata": {},
   "outputs": [],
   "source": [
    "pl.rcParams['figure.figsize'] = (9/2.54, 8/2.54)\n",
    "pl.rcParams['font.size'] = 9\n",
    "pl.rcParams['font.family'] = 'Arial'\n",
    "pl.rcParams['xtick.direction'] = 'in'\n",
    "pl.rcParams['ytick.direction'] = 'in'\n",
    "pl.rcParams['xtick.minor.visible'] = True\n",
    "pl.rcParams['ytick.minor.visible'] = True\n",
    "pl.rcParams['ytick.right'] = True\n",
    "pl.rcParams['ytick.left'] = True\n",
    "pl.rcParams['xtick.top'] = True\n",
    "pl.rcParams['axes.spines.right'] = True\n",
    "pl.rcParams['axes.spines.left'] = True\n",
    "pl.rcParams['ytick.labelleft'] = True"
   ]
  },
  {
   "cell_type": "code",
   "execution_count": null,
   "id": "166bef42",
   "metadata": {},
   "outputs": [],
   "source": [
    "# model = 'ACCESS-ESM1-5'"
   ]
  },
  {
   "cell_type": "code",
   "execution_count": null,
   "id": "77c9624c",
   "metadata": {},
   "outputs": [],
   "source": [
    "# cubes = iris.load(\n",
    "#         f\"/nfs/b0110/Data/cmip6/{model}/esm-hist/*/{table[model]}/co2/*/\"\n",
    "#         f\"co2_{table[model]}_{model}_esm-hist_*.nc\", \"co2\"\n",
    "#     )"
   ]
  },
  {
   "cell_type": "code",
   "execution_count": null,
   "id": "9c959413",
   "metadata": {},
   "outputs": [],
   "source": [
    "# iris.util.equalise_attributes(cubes)"
   ]
  },
  {
   "cell_type": "code",
   "execution_count": null,
   "id": "508f6796",
   "metadata": {},
   "outputs": [],
   "source": [
    "# cubes.concatenate_cube()"
   ]
  },
  {
   "cell_type": "code",
   "execution_count": null,
   "id": "45305f0c",
   "metadata": {},
   "outputs": [],
   "source": [
    "# cube"
   ]
  },
  {
   "cell_type": "code",
   "execution_count": null,
   "id": "a3bb637f",
   "metadata": {},
   "outputs": [],
   "source": [
    "results = {}\n",
    "\n",
    "for model in models:\n",
    "    print(model)\n",
    "    cubes = iris.load(\n",
    "        f\"/nfs/b0110/Data/cmip6/{model}/esm-hist/*/{table[model]}/co2/*/\"\n",
    "        f\"co2_{table[model]}_{model}_esm-hist_*.nc\", \"co2\"\n",
    "    )\n",
    "    iris.util.equalise_attributes(cubes)\n",
    "    iris.util.unify_time_units(cubes)\n",
    "    cube = cubes.concatenate_cube()\n",
    "    \n",
    "    for coord in ['latitude', 'longitude']:\n",
    "        if not cube.coord(coord).has_bounds():\n",
    "            cube.coord(coord).guess_bounds()\n",
    "            \n",
    "    grid_areas = iris.analysis.cartography.area_weights(cube)\n",
    "    iris.coord_categorisation.add_year(cube, 'time', name='year')\n",
    "    annual_means = cube.collapsed(\n",
    "        ['longitude','latitude'], \n",
    "        iris.analysis.MEAN, weights=grid_areas\n",
    "    ).aggregated_by(['year'], iris.analysis.MEAN)\n",
    "    results[model] = annual_means[:,0].data"
   ]
  },
  {
   "cell_type": "code",
   "execution_count": null,
   "id": "e977c8b0",
   "metadata": {},
   "outputs": [],
   "source": [
    "results"
   ]
  },
  {
   "cell_type": "code",
   "execution_count": null,
   "id": "ef8ff782",
   "metadata": {},
   "outputs": [],
   "source": [
    "for model in models:\n",
    "    if model.startswith('Can'):\n",
    "        scale = 1\n",
    "    else:\n",
    "        scale = 1e6\n",
    "    results[model] = results[model] * scale"
   ]
  },
  {
   "cell_type": "code",
   "execution_count": null,
   "id": "72391e90",
   "metadata": {},
   "outputs": [],
   "source": [
    "dataout = pd.DataFrame(results, index=np.arange(1850.5, 2015))\n",
    "dataout.to_csv('../data/cmip6_esm-hist_co2s.csv')"
   ]
  },
  {
   "cell_type": "code",
   "execution_count": null,
   "id": "46e16d8d",
   "metadata": {},
   "outputs": [],
   "source": [
    "ghg_cmip6 = pd.read_csv('../data/meinshausen-et-al-2017/Supplementary_Table_UoM_GHGConcentrations-1-1-0_annualmeans_v2.csv', skiprows=21, index_col=0)\n",
    "ghg_cmip6['CO2']"
   ]
  },
  {
   "cell_type": "code",
   "execution_count": null,
   "id": "dd52c3ab",
   "metadata": {},
   "outputs": [],
   "source": [
    "maxco2 = {}\n",
    "for model in models:\n",
    "    maxco2[model] = results[model].max()"
   ]
  },
  {
   "cell_type": "code",
   "execution_count": null,
   "id": "0a402fa9",
   "metadata": {},
   "outputs": [],
   "source": [
    "maxco2"
   ]
  },
  {
   "cell_type": "code",
   "execution_count": null,
   "id": "797a9e3c",
   "metadata": {},
   "outputs": [],
   "source": [
    "models_sorted = {k: v for k, v in sorted(maxco2.items(), key=lambda item: item[1], reverse=True)}\n",
    "models_sorted"
   ]
  },
  {
   "cell_type": "code",
   "execution_count": null,
   "id": "e6186796",
   "metadata": {},
   "outputs": [],
   "source": [
    "palette = [\n",
    "    '#6929c4',\n",
    "    '#1192e8',\n",
    "    '#005d5d',\n",
    "    '#9f1853',\n",
    "    '#fa4d56',\n",
    "    '#570408',\n",
    "    '#198038',\n",
    "    '#002d9c',\n",
    "    '#ee538b',\n",
    "    '#b28600',\n",
    "    '#009d9a',\n",
    "    '#012749',\n",
    "    '#8a3800',\n",
    "]\n",
    "\n",
    "colors=dict(zip(models_sorted.keys(), palette))\n",
    "\n",
    "for i, model in enumerate(models_sorted):\n",
    "    pl.plot(np.arange(1850.5, 2015), results[model], color=colors[model])\n",
    "    pl.text(1855, 428-i*10, model, color=colors[model])\n",
    "\n",
    "pl.text(1917, 418, 'CMIP6 observations\\n(Meinshausen et al. 2017)',  fontweight='bold')\n",
    "pl.plot(np.arange(1850.5, 2015), ghg_cmip6['CO2'], color='k', label='CMIP6 (Meinshausen et al. 2017)', lw=2)\n",
    "pl.ylabel('ppm')\n",
    "pl.title('CMIP6 hist-esm CO$_2$ concentrations')\n",
    "\n",
    "#pl.legend()\n",
    "pl.xlim(1850, 2015)\n",
    "pl.ylim(280, 440)\n",
    "pl.tight_layout()\n",
    "pl.savefig('../plots/fig4.png', dpi=300)"
   ]
  },
  {
   "cell_type": "code",
   "execution_count": null,
   "id": "192663c0",
   "metadata": {},
   "outputs": [],
   "source": []
  }
 ],
 "metadata": {
  "kernelspec": {
   "display_name": "Python 3",
   "language": "python",
   "name": "python3"
  },
  "language_info": {
   "codemirror_mode": {
    "name": "ipython",
    "version": 3
   },
   "file_extension": ".py",
   "mimetype": "text/x-python",
   "name": "python",
   "nbconvert_exporter": "python",
   "pygments_lexer": "ipython3",
   "version": "3.10.6"
  }
 },
 "nbformat": 4,
 "nbformat_minor": 5
}
