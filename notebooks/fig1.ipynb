{
 "cells": [
  {
   "cell_type": "markdown",
   "id": "3decbfc6",
   "metadata": {},
   "source": [
    "# Plot contributions to warming from emissions"
   ]
  },
  {
   "cell_type": "markdown",
   "id": "e5d94c32",
   "metadata": {},
   "source": [
    "Data from IPCC, Sixth Assessment Report, Summary for Policymakers fig 2c:\n",
    "\n",
    "Szopa, S.; Smith, C.; Blichner, S.; Berntsen, T.; Collins, B.; Gillett, N.; Thorne, P.; Trewin, B. (2021): Summary for Policymakers of the Working Group I Contribution to the IPCC Sixth Assessment Report - data for Figure SPM.2 (v20210809). NERC EDS Centre for Environmental Data Analysis, 09 August 2021. doi:10.5285/c1eb6dad1598427f8f9f3eae346ece2f. http://dx.doi.org/10.5285/c1eb6dad1598427f8f9f3eae346ece2f\n",
    "\n",
    "Accessed 05.09.2022"
   ]
  },
  {
   "cell_type": "code",
   "execution_count": null,
   "id": "7a8a9861",
   "metadata": {},
   "outputs": [],
   "source": [
    "import os\n",
    "\n",
    "import pandas as pd\n",
    "import matplotlib.pyplot as pl\n",
    "import matplotlib.patches as patches"
   ]
  },
  {
   "cell_type": "code",
   "execution_count": null,
   "id": "c4e821be",
   "metadata": {},
   "outputs": [],
   "source": [
    "os.makedirs('../plots/', exist_ok=True)"
   ]
  },
  {
   "cell_type": "code",
   "execution_count": null,
   "id": "db21a08c",
   "metadata": {},
   "outputs": [],
   "source": [
    "pl.rcParams['figure.figsize'] = (9/2.54, 8/2.54)\n",
    "pl.rcParams['font.size'] = 9\n",
    "pl.rcParams['font.family'] = 'Arial'\n",
    "pl.rcParams['xtick.direction'] = 'in'\n",
    "pl.rcParams['xtick.minor.visible'] = True\n",
    "pl.rcParams['ytick.minor.visible'] = True\n",
    "pl.rcParams['ytick.right'] = False\n",
    "pl.rcParams['ytick.left'] = False\n",
    "pl.rcParams['xtick.top'] = True\n",
    "pl.rcParams['axes.spines.right'] = False\n",
    "pl.rcParams['axes.spines.left'] = False\n",
    "pl.rcParams['ytick.labelleft'] = False\n",
    "\n",
    "pl.rcParams['hatch.color'] = '#00000060'\n",
    "pl.rcParams['hatch.linewidth'] = 1.0\n",
    "# pl.rcParams['figure.dpi'] = 300  # only for output"
   ]
  },
  {
   "cell_type": "code",
   "execution_count": null,
   "id": "3e3c1074",
   "metadata": {},
   "outputs": [],
   "source": [
    "#pl.rcParams.keys()"
   ]
  },
  {
   "cell_type": "code",
   "execution_count": null,
   "id": "7ff03dcd",
   "metadata": {},
   "outputs": [],
   "source": [
    "df = pd.read_csv('../data/ipcc-ar6-wg1-spm/SPM2c_data.csv')\n",
    "df"
   ]
  },
  {
   "cell_type": "code",
   "execution_count": null,
   "id": "13e028d5",
   "metadata": {},
   "outputs": [],
   "source": [
    "# rename columns\n",
    "df.loc[:, 'Driver'] = ['CO$_2$', 'CH$_4$', 'N$_2$O', 'CFCs + HFCs + HCFCs', 'NO$_x$', 'VOCs + CO', 'SO$_2$',\n",
    "                    'Organic carbon', 'Black carbon', 'NH$_3$', 'Land use', 'Contrails']"
   ]
  },
  {
   "cell_type": "code",
   "execution_count": null,
   "id": "784da492",
   "metadata": {},
   "outputs": [],
   "source": [
    "df"
   ]
  },
  {
   "cell_type": "code",
   "execution_count": null,
   "id": "b59ab7bc",
   "metadata": {},
   "outputs": [],
   "source": [
    "df.loc[0, 'total GSAT effect']"
   ]
  },
  {
   "cell_type": "code",
   "execution_count": null,
   "id": "9448fb37",
   "metadata": {},
   "outputs": [],
   "source": [
    "df.loc[1:, 'total GSAT effect'].sum()"
   ]
  },
  {
   "cell_type": "code",
   "execution_count": null,
   "id": "fd1d33b5",
   "metadata": {},
   "outputs": [],
   "source": [
    "df.loc[1:, 'total GSAT effect'].sum()/df.loc[0:, 'total GSAT effect'].sum()"
   ]
  },
  {
   "cell_type": "code",
   "execution_count": null,
   "id": "2e115974",
   "metadata": {},
   "outputs": [],
   "source": [
    "# sort by temperature contribution\n",
    "df_sorted = df.sort_values('total GSAT effect', ascending=False).reset_index(drop=True)\n",
    "df_sorted"
   ]
  },
  {
   "cell_type": "code",
   "execution_count": null,
   "id": "effb9bbd",
   "metadata": {},
   "outputs": [],
   "source": [
    "colors = {\n",
    "    'CO$_2$': '#a0a0a0',\n",
    "    'non-CO$_2$': '#505050',\n",
    "    # warming\n",
    "    'CH$_4$': '#9d3a12', \n",
    "    'VOCs + CO': '#cb9154',\n",
    "    'CFCs + HFCs + HCFCs': '#f7edf0', \n",
    "    'Black carbon': '#a5668b',\n",
    "    'N$_2$O': '#69306d',\n",
    "    'Contrails': '#49205d',\n",
    "    # cooling\n",
    "    'NH$_3$': '#e4dfda', \n",
    "    'Organic carbon': '#e1caa8',\n",
    "    'Land use': '#447604',\n",
    "    'NO$_x$': '#48a9a6',\n",
    "    'SO$_2$': '#284882',\n",
    "}"
   ]
  },
  {
   "cell_type": "code",
   "execution_count": null,
   "id": "f8b8142a",
   "metadata": {},
   "outputs": [],
   "source": [
    "text_x = {\n",
    "    'CO$_2$': df_sorted.loc[0, 'total GSAT effect']/2,\n",
    "    'non-CO$_2$': df_sorted.loc[0, 'total GSAT effect']+df_sorted.loc[1:, 'total GSAT effect'].sum()/2,\n",
    "    'CH$_4$': df_sorted.loc[1, 'total GSAT effect']/2,\n",
    "    'SO$_2$': df_sorted.loc[11, 'total GSAT effect']/2,\n",
    "    'VOCs + CO': df_sorted.loc[1:1, 'total GSAT effect'].sum() + df_sorted.loc[2, 'total GSAT effect']/2,\n",
    "    'CFCs + HFCs + HCFCs': df_sorted.loc[1:2, 'total GSAT effect'].sum() + df_sorted.loc[3, 'total GSAT effect']/2,\n",
    "    'Black carbon': df_sorted.loc[1:3, 'total GSAT effect'].sum() + df_sorted.loc[4, 'total GSAT effect']/2,\n",
    "    'N$_2$O': df_sorted.loc[1:4, 'total GSAT effect'].sum() + df_sorted.loc[5, 'total GSAT effect']/2,\n",
    "    'Contrails': df_sorted.loc[1:5, 'total GSAT effect'].sum() + df_sorted.loc[6, 'total GSAT effect']/2,\n",
    "    'NO$_x$': df_sorted.loc[11, 'total GSAT effect'] + df_sorted.loc[10, 'total GSAT effect']/2,\n",
    "    'Land use': df_sorted.loc[10:11, 'total GSAT effect'].sum() + df_sorted.loc[9, 'total GSAT effect']/2,\n",
    "    'Organic carbon': df_sorted.loc[9:11, 'total GSAT effect'].sum() + df_sorted.loc[8, 'total GSAT effect']/2,\n",
    "    'NH$_3$': df_sorted.loc[8:11, 'total GSAT effect'].sum() + df_sorted.loc[7, 'total GSAT effect']/2\n",
    "}"
   ]
  },
  {
   "cell_type": "code",
   "execution_count": null,
   "id": "ad66b0b8",
   "metadata": {},
   "outputs": [],
   "source": [
    "text_x['N$_2$O']"
   ]
  },
  {
   "cell_type": "code",
   "execution_count": null,
   "id": "d2e057d5",
   "metadata": {},
   "outputs": [],
   "source": [
    "slcf = {\n",
    "    'CO$_2$': 0,\n",
    "    'non-CO$_2$': 0,\n",
    "    # warming\n",
    "    'CH$_4$': 1, \n",
    "    'VOCs + CO': 3,\n",
    "    'CFCs + HFCs + HCFCs': 0, \n",
    "    'Black carbon': 3,\n",
    "    'N$_2$O': 0,\n",
    "    'Contrails': 3,\n",
    "    # cooling\n",
    "    'NH$_3$': 3, \n",
    "    'Organic carbon': 3,\n",
    "    'Land use': 0,\n",
    "    'NO$_x$': 3,\n",
    "    'SO$_2$': 3,\n",
    "}"
   ]
  },
  {
   "cell_type": "code",
   "execution_count": null,
   "id": "a563334c",
   "metadata": {},
   "outputs": [],
   "source": [
    "fig, ax = pl.subplots()\n",
    "\n",
    "# CO2 and non-CO2\n",
    "ax.barh(1, df_sorted.loc[0, 'total GSAT effect'], color=colors['CO$_2$'])\n",
    "ax.barh(1, df_sorted.loc[1:, 'total GSAT effect'].sum(), left=df_sorted.loc[0, 'total GSAT effect'], color=colors['non-CO$_2$'])\n",
    "\n",
    "# Warming drivers\n",
    "for index in range(1, 7):\n",
    "    ax.barh(\n",
    "        0.05, \n",
    "        df_sorted.loc[index, 'total GSAT effect'], \n",
    "        left=df_sorted.loc[1:(index-1), 'total GSAT effect'].sum(),\n",
    "        color=colors[df_sorted.loc[index, 'Driver']], \n",
    "        height=0.6,\n",
    "        hatch='/'*slcf[df_sorted.loc[index, 'Driver']] if slcf[df_sorted.loc[index, 'Driver']] else None,\n",
    "#        edgecolor='0.5'\n",
    "    )\n",
    "for index in range(11, 6, -1):\n",
    "    ax.barh(\n",
    "        0.05, \n",
    "        df_sorted.loc[index, 'total GSAT effect'], \n",
    "        left=df_sorted.loc[(index+1):11, 'total GSAT effect'].sum(),\n",
    "        color=colors[df_sorted.loc[index, 'Driver']],\n",
    "        height=0.6,\n",
    "        hatch='/'*slcf[df_sorted.loc[index, 'Driver']] if slcf[df_sorted.loc[index, 'Driver']] else None\n",
    "    )\n",
    "\n",
    "ax.axvline(0, color='k', lw=0.5)\n",
    "\n",
    "ax.plot((df_sorted.loc[0, 'total GSAT effect'], df_sorted.loc[0, 'total GSAT effect']), (0.6, 0.56), color=colors['non-CO$_2$'], lw=1, ls='--')\n",
    "ax.plot((df_sorted.loc[7:11, 'total GSAT effect'].sum(), df_sorted.loc[0, 'total GSAT effect']), (0.39, 0.56), color=colors['non-CO$_2$'], lw=1, ls='--')\n",
    "ax.plot((df_sorted.loc[7:11, 'total GSAT effect'].sum(), df_sorted.loc[7:11, 'total GSAT effect'].sum()), (0.35, 0.39), color=colors['non-CO$_2$'], lw=1, ls='--')\n",
    "ax.plot((df_sorted.loc[0, 'total GSAT effect']+df_sorted.loc[1:, 'total GSAT effect'].sum(), df_sorted.loc[1:6, 'total GSAT effect'].sum()), (0.6, 0.35), color=colors['non-CO$_2$'], lw=1, solid_joinstyle='miter', ls='--')\n",
    "\n",
    "ax.text(text_x['CO$_2$'], 1, 'CO$_2$', ha='center', va='center')\n",
    "ax.text(text_x['non-CO$_2$'], 1, 'non-\\nCO$_2$', ha='center', va='center', color='w')\n",
    "ax.text(text_x['CH$_4$'], 0.05, 'CH$_4$', ha='center', va='center', color='w')\n",
    "ax.text(text_x['SO$_2$'], 0.05, 'SO$_2$', ha='center', va='center', color='w')\n",
    "\n",
    "ax.text(text_x['VOCs + CO'], 0.05, 'VOC\\n+ CO', ha='center', va='center', color='w', rotation=0)\n",
    "ax.text(text_x['Black carbon'], 0.05, 'BC', ha='center', va='center', color='w', rotation=90)\n",
    "ax.text(text_x['N$_2$O']+0.01, 0.05, 'N$_2$O', ha='center', va='center', color='w', rotation=90)\n",
    "ax.text(text_x['CFCs + HFCs + HCFCs'], 0.05, 'Halogens', ha='center', va='center', color='0.25', rotation=90)\n",
    "ax.text(text_x['Contrails']+0.05, 0.15, '4', ha='center', va='center', color=colors['Contrails'])\n",
    "\n",
    "ax.text(text_x['NO$_x$'], 0.05, 'NO$_{\\mathrm{x}}$', ha='center', va='center', color='w')\n",
    "ax.text(text_x['Land use'], 0.05, '3', ha='center', va='center', color='w')\n",
    "ax.text(text_x['Organic carbon'], 0.05, '2', ha='center', va='center', color='0.25')\n",
    "ax.text(text_x['NH$_3$']-0.05, 0.15, '1', ha='center', va='center', color='0.25')\n",
    "\n",
    "ax.set_title('Present-day warming by emitted species', pad=7)\n",
    "ax.set_xlabel('°C')\n",
    "\n",
    "ax.text(0.06, -0.47, 'Warming', ha='left', va='baseline', color=colors['CH$_4$'])\n",
    "ax.text(-0.06, -0.47, 'Cooling', ha='right', va='baseline', color=colors['SO$_2$'])\n",
    "\n",
    "ax.arrow(0.4, -0.445, 0.3, 0, color=colors['CH$_4$'], head_width=0.04)\n",
    "ax.arrow(-0.36, -0.445, -0.3, 0, color=colors['SO$_2$'], head_width=0.04)\n",
    "\n",
    "ax.set_ylim(-0.6, 1.5)\n",
    "\n",
    "ax.text(-0.8, 1.23, '1: Ammonia (NH$_3$)', color='0.25')\n",
    "ax.text(-0.8, 1.09, '2: Organic carbon', color='#b3843d')\n",
    "ax.text(-0.8, 0.95, '3: Land use change', color=colors['Land use'])\n",
    "ax.text(-0.8, 0.81, '4: Contrails', color=colors['Contrails'])\n",
    "\n",
    "ax.add_patch(patches.Rectangle((-0.8, 0.65), 0.14, 0.1, facecolor='white', hatch='/////'))\n",
    "ax.text(-0.63, 0.67, 'Short-lived forcer', color='0.5')\n",
    "\n",
    "style = \"Simple, tail_width=0.25, head_width=3, head_length=3\"\n",
    "kw = dict(arrowstyle=style, color=\"0.0\", lw=0.5)\n",
    "a1 = patches.FancyArrowPatch((text_x['NH$_3$']-0.05, 0.1), (text_x['NH$_3$']+0.02, -0.2),\n",
    "                             connectionstyle=\"arc3,rad=.5\", **kw)\n",
    "style = \"Simple, tail_width=0.25, head_width=3, head_length=3\"\n",
    "kw = dict(arrowstyle=style, color=\"0.0\", lw=0.5)\n",
    "a2 = patches.FancyArrowPatch((text_x['Contrails']+0.05, 0.1), (text_x['Contrails']-0.02, -0.2),\n",
    "                             connectionstyle=\"arc3,rad=-.5\", **kw)\n",
    "\n",
    "for a in [a1, a2]:\n",
    "    pl.gca().add_patch(a)\n",
    "\n",
    "fig.tight_layout()\n",
    "\n",
    "pl.savefig('../plots/fig1.pdf')\n",
    "pl.savefig('../plots/fig1.png', dpi=300)\n",
    "pl.savefig('../plots/fig1.svg')\n"
   ]
  },
  {
   "cell_type": "code",
   "execution_count": null,
   "id": "aad33158",
   "metadata": {},
   "outputs": [],
   "source": [
    "df_sorted.loc[7:11, 'total GSAT effect'].sum()"
   ]
  }
 ],
 "metadata": {
  "kernelspec": {
   "display_name": "Python 3",
   "language": "python",
   "name": "python3"
  },
  "language_info": {
   "codemirror_mode": {
    "name": "ipython",
    "version": 3
   },
   "file_extension": ".py",
   "mimetype": "text/x-python",
   "name": "python",
   "nbconvert_exporter": "python",
   "pygments_lexer": "ipython3",
   "version": "3.10.6"
  }
 },
 "nbformat": 4,
 "nbformat_minor": 5
}
