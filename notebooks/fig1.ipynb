{
 "cells": [
  {
   "cell_type": "markdown",
   "id": "3decbfc6",
   "metadata": {},
   "source": [
    "# Plot contributions to warming from emissions"
   ]
  },
  {
   "cell_type": "markdown",
   "id": "e5d94c32",
   "metadata": {},
   "source": [
    "Data from IPCC, Sixth Assessment Report, Summary for Policymakers fig 2c:\n",
    "\n",
    "Szopa, S.; Smith, C.; Blichner, S.; Berntsen, T.; Collins, B.; Gillett, N.; Thorne, P.; Trewin, B. (2021): Summary for Policymakers of the Working Group I Contribution to the IPCC Sixth Assessment Report - data for Figure SPM.2 (v20210809). NERC EDS Centre for Environmental Data Analysis, 09 August 2021. doi:10.5285/c1eb6dad1598427f8f9f3eae346ece2f. http://dx.doi.org/10.5285/c1eb6dad1598427f8f9f3eae346ece2f\n",
    "\n",
    "Accessed 05.09.2022"
   ]
  },
  {
   "cell_type": "code",
   "execution_count": null,
   "id": "7a8a9861",
   "metadata": {},
   "outputs": [],
   "source": [
    "import pandas as pd\n",
    "import matplotlib.pyplot as pl"
   ]
  },
  {
   "cell_type": "code",
   "execution_count": null,
   "id": "7ff03dcd",
   "metadata": {},
   "outputs": [],
   "source": [
    "df = pd.read_csv('../data/ipcc-ar6-wg1-spm/SPM2c_data.csv')\n",
    "df"
   ]
  },
  {
   "cell_type": "code",
   "execution_count": null,
   "id": "13e028d5",
   "metadata": {},
   "outputs": [],
   "source": [
    "# rename columns\n",
    "df.loc[:, 'Driver'] = ['CO$_2$', 'CH$_4$', 'N$_2$O', 'CFCs + HFCs + HCFCs', 'NO$_x$', 'VOCs + CO', 'SO$_2$',\n",
    "                    'Organic carbon', 'Black carbon', 'NH$_3$', 'Land use', 'Contrails']"
   ]
  },
  {
   "cell_type": "code",
   "execution_count": null,
   "id": "784da492",
   "metadata": {},
   "outputs": [],
   "source": [
    "df"
   ]
  },
  {
   "cell_type": "code",
   "execution_count": null,
   "id": "b59ab7bc",
   "metadata": {},
   "outputs": [],
   "source": [
    "df.loc[0, 'total GSAT effect']"
   ]
  },
  {
   "cell_type": "code",
   "execution_count": null,
   "id": "9448fb37",
   "metadata": {},
   "outputs": [],
   "source": [
    "df.loc[1:, 'total GSAT effect'].sum()"
   ]
  },
  {
   "cell_type": "code",
   "execution_count": null,
   "id": "fd1d33b5",
   "metadata": {},
   "outputs": [],
   "source": [
    "df.loc[1:, 'total GSAT effect'].sum()/df.loc[0:, 'total GSAT effect'].sum()"
   ]
  },
  {
   "cell_type": "code",
   "execution_count": null,
   "id": "2e115974",
   "metadata": {},
   "outputs": [],
   "source": [
    "# sort by temperature contribution\n",
    "df_sorted = df.sort_values('total GSAT effect', ascending=False).reset_index(drop=True)\n",
    "df_sorted"
   ]
  },
  {
   "cell_type": "code",
   "execution_count": null,
   "id": "effb9bbd",
   "metadata": {},
   "outputs": [],
   "source": [
    "colors = {\n",
    "    'CO$_2$': '#909090',\n",
    "    'non-CO$_2$': '#c02020',\n",
    "    # warming\n",
    "    'CH$_4$': '#ff6868', \n",
    "    'VOCs + CO': '#ff8080',\n",
    "    'CFCs + HFCs + HCFCs': '#ff9898', \n",
    "    'Black carbon': '#ffb0b0',\n",
    "    'N$_2$O': '#ffc8c8',\n",
    "    'Contrails': '#ffe0e0',\n",
    "    # cooling\n",
    "    'NH$_3$': '#e0e0ff',\n",
    "    'Organic carbon': '#c8c8ff',\n",
    "    'Land use': '#b0b0ff', \n",
    "    'NO$_x$': '#9898ff',\n",
    "    'SO$_2$': '#8080ff',\n",
    "}"
   ]
  },
  {
   "cell_type": "code",
   "execution_count": null,
   "id": "a563334c",
   "metadata": {},
   "outputs": [],
   "source": [
    "# CO2 and non-CO2\n",
    "pl.barh(1, df_sorted.loc[0, 'total GSAT effect'], color=colors['CO$_2$'])\n",
    "pl.barh(1, df_sorted.loc[1:, 'total GSAT effect'].sum(), left=df_sorted.loc[0, 'total GSAT effect'], color=colors['non-CO$_2$'])\n",
    "\n",
    "# Warming drivers\n",
    "for index in range(1, 7):\n",
    "    pl.barh(0, df_sorted.loc[index, 'total GSAT effect'], left=df_sorted.loc[0:(index-1), 'total GSAT effect'].sum(), color=colors[df_sorted.loc[index, 'Driver']])\n",
    "for index in range(11, 6, -1):\n",
    "    pl.barh(0, df_sorted.loc[index, 'total GSAT effect'], left=df_sorted.loc[0, 'total GSAT effect']+df_sorted.loc[(index+1):11, 'total GSAT effect'].sum(), color=colors[df_sorted.loc[index, 'Driver']])\n",
    "#pl.barh(0, df_sorted.loc[2, 'total GSAT effect'], left=df.loc[0:1, 'total GSAT effect'].sum())\n",
    "#pl.barh(0, df_sorted.loc[2, 'total GSAT effect'], left=df.loc[0:1, 'total GSAT effect'].sum())\n",
    "pl.text(df_sorted.loc[0, 'total GSAT effect']/2, 1, 'CO$_2$', ha='center', va='center')"
   ]
  },
  {
   "cell_type": "code",
   "execution_count": null,
   "id": "aad33158",
   "metadata": {},
   "outputs": [],
   "source": [
    "df_sorted.loc[7:11, 'total GSAT effect'].sum()"
   ]
  },
  {
   "cell_type": "code",
   "execution_count": null,
   "id": "d2e7c4f1",
   "metadata": {},
   "outputs": [],
   "source": []
  }
 ],
 "metadata": {
  "kernelspec": {
   "display_name": "Python 3 (ipykernel)",
   "language": "python",
   "name": "python3"
  },
  "language_info": {
   "codemirror_mode": {
    "name": "ipython",
    "version": 3
   },
   "file_extension": ".py",
   "mimetype": "text/x-python",
   "name": "python",
   "nbconvert_exporter": "python",
   "pygments_lexer": "ipython3",
   "version": "3.10.6"
  }
 },
 "nbformat": 4,
 "nbformat_minor": 5
}
